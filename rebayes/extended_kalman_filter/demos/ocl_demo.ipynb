{
 "cells": [
  {
   "cell_type": "code",
   "execution_count": null,
   "metadata": {},
   "outputs": [],
   "source": [
    "%load_ext autoreload\n",
    "%autoreload 2\n",
    "\n",
    "%config InlineBackend.figure_format = \"retina\""
   ]
  },
  {
   "cell_type": "markdown",
   "metadata": {},
   "source": [
    "# 1. Regression (Linear Model)"
   ]
  },
  {
   "cell_type": "markdown",
   "metadata": {},
   "source": [
    "## 1.0. Dataset"
   ]
  },
  {
   "cell_type": "code",
   "execution_count": null,
   "metadata": {},
   "outputs": [],
   "source": [
    "from functools import partial\n",
    "\n",
    "from bayes_opt import BayesianOptimization\n",
    "import jax.numpy as jnp\n",
    "import jax.random as jr\n",
    "import matplotlib.pyplot as plt\n",
    "import tensorflow_probability.substrates.jax as tfp\n",
    "\n",
    "from rebayes.extended_kalman_filter.ekf import RebayesEKF, RebayesOCLEKF\n",
    "import rebayes.utils.callbacks as callbacks\n",
    "import rebayes.utils.models as models\n",
    "\n",
    "tfd = tfp.distributions\n",
    "MVN = tfd.MultivariateNormalTriL\n",
    "MVD = tfd.MultivariateNormalDiag"
   ]
  },
  {
   "cell_type": "code",
   "execution_count": null,
   "metadata": {},
   "outputs": [],
   "source": [
    "MEAN_VALS = [1.3, 1.0, 1.3, 0.95, 0.6, 0.25, 0.8, 0.5,]\n",
    "CHANGE_POINTS = [451, 709, 958, 1547, 2147, 2769, 2957,]\n",
    "\n",
    "def generate_time_series_data(\n",
    "    key=0,\n",
    "    n_points=3058,\n",
    "    change_points=CHANGE_POINTS,\n",
    "    means=MEAN_VALS,\n",
    "    variance=0.01\n",
    "):\n",
    "    if isinstance(key, int):\n",
    "        key = jr.PRNGKey(key)\n",
    "    xs = jnp.arange(n_points)\n",
    "\n",
    "    change_points = jnp.array([0, *change_points, n_points])\n",
    "    segment_lengths = jnp.array(\n",
    "        [change_points[i + 1] - change_points[i] for i in range(len(change_points) - 1)]\n",
    "    )\n",
    "    result = jnp.concatenate(\n",
    "        [means[i]*jnp.ones(segment_lengths[i]) for i in range(len(segment_lengths))]\n",
    "    )\n",
    "    noise = jnp.sqrt(variance) * jr.normal(key, result.shape)\n",
    "    ys = result + noise\n",
    "\n",
    "    return xs, ys"
   ]
  },
  {
   "cell_type": "code",
   "execution_count": null,
   "metadata": {},
   "outputs": [],
   "source": [
    "xs, ys = generate_time_series_data()"
   ]
  },
  {
   "cell_type": "code",
   "execution_count": null,
   "metadata": {},
   "outputs": [],
   "source": [
    "# Plot\n",
    "fig, ax = plt.subplots(figsize=(12, 3))\n",
    "plt.scatter(xs, ys, s=0.5, color=\"black\")\n",
    "ax.set_xlabel(\"Time\")\n",
    "ax.set_ylabel(\"Output\")\n",
    "ax.set_yticks([0, 1]);"
   ]
  },
  {
   "cell_type": "markdown",
   "metadata": {},
   "source": [
    "## 1.1. Kalman Filter (gamma = 1, Q = 0)"
   ]
  },
  {
   "cell_type": "code",
   "execution_count": null,
   "metadata": {},
   "outputs": [],
   "source": [
    "ekf = RebayesEKF(\n",
    "    dynamics_weights_or_function=1.0,\n",
    "    dynamics_covariance=0.,\n",
    "    emission_mean_function=lambda w, x: w,\n",
    "    emission_cov_function=lambda w, x: 0.05,\n",
    "    method=\"fcekf\",\n",
    ")\n",
    "init_mean, init_cov = jnp.array([0.0]), jnp.array([0.01])\n",
    "ekf_kwargs = {\n",
    "    \"agent\": ekf,\n",
    "}\n",
    "\n",
    "def callback(bel, pred_obs, t, x, y, bel_pred, **kwargs):\n",
    "    agent = kwargs[\"agent\"]\n",
    "    y_mean = agent.predict_obs(bel_pred, x)\n",
    "    y_cov = agent.predict_obs_cov(bel_pred, x)\n",
    "    log_prob = agent.evaluate_log_prob(bel, x, y)\n",
    "    \n",
    "    return y_mean, y_cov, log_prob\n",
    "\n",
    "ekf_bel, ekf_outputs = ekf.scan(\n",
    "    init_mean, init_cov, xs, ys, callback=callback, **ekf_kwargs\n",
    ")"
   ]
  },
  {
   "cell_type": "code",
   "execution_count": null,
   "metadata": {},
   "outputs": [],
   "source": [
    "ekf_mean, ekf_var, ekf_log_prob = ekf_outputs\n",
    "ekf_mean, ekf_var, ekf_log_prob = ekf_mean.ravel(), ekf_var.ravel(), ekf_log_prob.ravel()\n",
    "\n",
    "# Compute cumulative average\n",
    "ekf_log_prob = jnp.cumsum(ekf_log_prob) / jnp.arange(1, len(ekf_log_prob) + 1)"
   ]
  },
  {
   "cell_type": "code",
   "execution_count": null,
   "metadata": {},
   "outputs": [],
   "source": [
    "# Plot\n",
    "fig, ax = plt.subplots(figsize=(12, 3))\n",
    "plt.scatter(xs, ys, s=0.5, color=\"black\")\n",
    "plt.plot(xs, ekf_mean, color=\"darkorange\", linewidth=1.5)\n",
    "plt.plot(xs, ekf_mean + 2*jnp.sqrt(ekf_var), color=\"darkorange\", linewidth=1.0, linestyle=\"--\")\n",
    "plt.plot(xs, ekf_mean - 2*jnp.sqrt(ekf_var), color=\"darkorange\", linewidth=1.0, linestyle=\"--\")\n",
    "ax.set_xlabel(\"Time\")\n",
    "ax.set_ylabel(\"Output\")\n",
    "ax.set_ylim(-0.5, 2)\n",
    "ax.set_yticks([0, 1]);"
   ]
  },
  {
   "cell_type": "code",
   "execution_count": null,
   "metadata": {},
   "outputs": [],
   "source": [
    "# Plot log prob\n",
    "fig, ax = plt.subplots(figsize=(12, 3))\n",
    "plt.plot(xs, ekf_log_prob, color=\"darkorange\", linewidth=1.5)\n",
    "ax.set_ylim(-4, 2)\n",
    "ax.set_xlabel(\"Time\")\n",
    "ax.set_ylabel(\"Log Predictive density\");\n"
   ]
  },
  {
   "cell_type": "markdown",
   "metadata": {},
   "source": [
    "## 1.2. Kalman Filter (gamma = 1, Q = 0.01)"
   ]
  },
  {
   "cell_type": "code",
   "execution_count": null,
   "metadata": {},
   "outputs": [],
   "source": [
    "nsekf = RebayesEKF(\n",
    "    dynamics_weights_or_function=1.0,\n",
    "    dynamics_covariance=1e-10,\n",
    "    emission_mean_function=model_dict[\"emission_mean_function\"],\n",
    "    emission_cov_function=model_dict[\"emission_cov_function\"],\n",
    "    method=\"fcekf\",\n",
    ")\n",
    "init_mean, init_cov = model_dict[\"flat_params\"], 0.01\n",
    "nsekf_kwargs = {\n",
    "    \"agent\": nsekf,\n",
    "}\n",
    "\n",
    "def callback(bel, pred_obs, t, x, y, bel_pred, **kwargs):\n",
    "    agent = kwargs[\"agent\"]\n",
    "    y_mean = agent.predict_obs(bel_pred, x)\n",
    "    y_cov = agent.predict_obs_cov(bel_pred, x)\n",
    "    log_prob = agent.evaluate_log_prob(bel, x, y)\n",
    "    \n",
    "    return y_mean, y_cov, log_prob\n",
    "\n",
    "nsekf_bel, nsekf_outputs = nsekf.scan(\n",
    "    init_mean, init_cov, xs, ys, callback=callback, **nsekf_kwargs\n",
    ")"
   ]
  },
  {
   "cell_type": "code",
   "execution_count": null,
   "metadata": {},
   "outputs": [],
   "source": [
    "nsekf_mean, nsekf_var, nsekf_log_prob = nsekf_outputs\n",
    "nsekf_mean, nsekf_var, nsekf_log_prob = nsekf_mean.ravel(), nsekf_var.ravel(), nsekf_log_prob.ravel()\n",
    "\n",
    "# Compute cumulative average\n",
    "nsekf_log_prob = jnp.cumsum(nsekf_log_prob) / jnp.arange(1, len(nsekf_log_prob) + 1)"
   ]
  },
  {
   "cell_type": "code",
   "execution_count": null,
   "metadata": {},
   "outputs": [],
   "source": [
    "# Plot\n",
    "fig, ax = plt.subplots(figsize=(12, 3))\n",
    "plt.scatter(xs, ys, s=0.5, color=\"black\")\n",
    "plt.plot(xs, nsekf_mean, color=\"darkorange\", linewidth=1.5)\n",
    "plt.plot(xs, nsekf_mean + 2*jnp.sqrt(nsekf_var), color=\"darkorange\", linewidth=1.0, linestyle=\"--\")\n",
    "plt.plot(xs, nsekf_mean - 2*jnp.sqrt(nsekf_var), color=\"darkorange\", linewidth=1.0, linestyle=\"--\")\n",
    "ax.set_xlabel(\"Time\")\n",
    "ax.set_ylabel(\"Output\")\n",
    "ax.set_ylim(-0.5, 2)\n",
    "ax.set_yticks([0, 1]);"
   ]
  },
  {
   "cell_type": "code",
   "execution_count": null,
   "metadata": {},
   "outputs": [],
   "source": [
    "# Plot log prob\n",
    "fig, ax = plt.subplots(figsize=(12, 3))\n",
    "plt.plot(xs, nsekf_log_prob, color=\"darkorange\", linewidth=1.5)\n",
    "ax.set_ylim(-4, 2)\n",
    "ax.set_xlabel(\"Time\")\n",
    "ax.set_ylabel(\"Log Predictive density\");\n"
   ]
  },
  {
   "cell_type": "markdown",
   "metadata": {},
   "source": [
    "## 1.3. Adaptive Kalman Filter"
   ]
  },
  {
   "cell_type": "code",
   "execution_count": null,
   "metadata": {},
   "outputs": [],
   "source": [
    "oclekf = RebayesOCLEKF(\n",
    "    dynamics_decay_delta=0.0,\n",
    "    dynamics_covariance=0.01,\n",
    "    emission_mean_function=lambda w, x: w,\n",
    "    emission_cov_function=lambda w, x: 0.05,\n",
    "    method=\"fcekf\",\n",
    "    decay_dynamics_weight=False,\n",
    "    learning_rate=1.0,\n",
    ")\n",
    "init_mean, init_cov = jnp.array([0.0]), jnp.array([0.01])\n",
    "oclekf_kwargs = {\n",
    "    \"agent\": oclekf,\n",
    "}\n",
    "\n",
    "def oclekf_callback(bel, pred_obs, t, x, y, bel_pred, **kwargs):\n",
    "    agent = kwargs[\"agent\"]\n",
    "    y_mean = agent.predict_obs(bel_pred, x)\n",
    "    y_cov = agent.predict_obs_cov(bel_pred, x)\n",
    "    log_prob = agent.evaluate_log_prob(bel, x, y)\n",
    "    gamma_sq = jnp.exp(-bel.dynamics_decay_delta)\n",
    "    \n",
    "    return y_mean, y_cov, gamma_sq, log_prob\n",
    "\n",
    "oclekf_bel, oclekf_outputs = oclekf.scan(\n",
    "    init_mean, init_cov, xs, ys, callback=oclekf_callback, **oclekf_kwargs\n",
    ")"
   ]
  },
  {
   "cell_type": "code",
   "execution_count": null,
   "metadata": {},
   "outputs": [],
   "source": [
    "oclekf_mean, oclekf_var, oclekf_gammasq, oclekf_log_prob = oclekf_outputs\n",
    "oclekf_mean, oclekf_var, oclekf_gammasq, oclekf_log_prob = \\\n",
    "    oclekf_mean.ravel(), oclekf_var.ravel(), oclekf_gammasq.ravel(), oclekf_log_prob.ravel()\n",
    "\n",
    "# Compute cumulative average\n",
    "oclekf_log_prob = jnp.cumsum(oclekf_log_prob) / jnp.arange(1, len(oclekf_log_prob) + 1)"
   ]
  },
  {
   "cell_type": "code",
   "execution_count": null,
   "metadata": {},
   "outputs": [],
   "source": [
    "# Plot\n",
    "fig, ax = plt.subplots(figsize=(12, 3))\n",
    "plt.scatter(xs, ys, s=0.5, color=\"black\")\n",
    "plt.plot(xs, oclekf_mean, color=\"darkorange\", linewidth=1.5)\n",
    "plt.plot(xs, oclekf_mean + 2*jnp.sqrt(oclekf_var), color=\"darkorange\", linewidth=1.0, linestyle=\"--\")\n",
    "plt.plot(xs, oclekf_mean - 2*jnp.sqrt(oclekf_var), color=\"darkorange\", linewidth=1.0, linestyle=\"--\")\n",
    "ax.set_xlabel(\"Time\")\n",
    "ax.set_ylabel(\"Output\")\n",
    "ax.set_ylim(-0.5, 2)\n",
    "ax.set_yticks([0, 1]);"
   ]
  },
  {
   "cell_type": "code",
   "execution_count": null,
   "metadata": {},
   "outputs": [],
   "source": [
    "fig, ax = plt.subplots(figsize=(12, 3))\n",
    "plt.plot(xs, oclekf_gammasq, color=\"green\", linewidth=1.5);"
   ]
  },
  {
   "cell_type": "code",
   "execution_count": null,
   "metadata": {},
   "outputs": [],
   "source": [
    "# Plot log prob\n",
    "fig, ax = plt.subplots(figsize=(12, 3))\n",
    "plt.plot(xs, oclekf_log_prob, color=\"darkorange\", linewidth=1.5)\n",
    "ax.set_ylim(-4, 2)\n",
    "ax.set_xlabel(\"Time\")\n",
    "ax.set_ylabel(\"Log Predictive density\");\n"
   ]
  },
  {
   "cell_type": "markdown",
   "metadata": {},
   "source": [
    "# 2. Classification (Stationary)"
   ]
  },
  {
   "cell_type": "markdown",
   "metadata": {},
   "source": [
    "## 2.0. Dataset"
   ]
  },
  {
   "cell_type": "code",
   "execution_count": null,
   "metadata": {},
   "outputs": [],
   "source": [
    "def generate_spiral_dataset(\n",
    "    num_per_class=2000,\n",
    "    zero_var=1.,\n",
    "    one_var=1.,\n",
    "    shuffle=True,\n",
    "    key=0,\n",
    "):\n",
    "    if isinstance(key, int):\n",
    "        key = jr.PRNGKey(key)\n",
    "    key1, key2, key3, key4, key5, key6 = jr.split(key, 6)\n",
    "\n",
    "    theta = jnp.sqrt(jr.uniform(key1, shape=(num_per_class,))) * 2*jnp.pi\n",
    "    r = 2*theta + jnp.pi\n",
    "    def generate_data(theta, r, key):\n",
    "        x0, y0 = 20*jr.normal(key, shape=(2,))\n",
    "        return jnp.array([x0+jnp.cos(theta)*r, y0+jnp.sin(theta)*r]).T\n",
    "\n",
    "    # Input data for output zero\n",
    "    zero_input = generate_data(theta, r, key2) + zero_var * jr.normal(key3, shape=(num_per_class, 2))\n",
    "\n",
    "    # Input data for output one\n",
    "    one_input = generate_data(theta, -r, key4) + one_var * jr.normal(key5, shape=(num_per_class, 2))\n",
    "\n",
    "    # Stack the inputs and standardize\n",
    "    input = jnp.concatenate([zero_input, one_input])\n",
    "    # input = (input - input.mean(axis=0)) / input.std(axis=0)\n",
    "\n",
    "    # Generate binary output\n",
    "    output = jnp.concatenate([jnp.zeros(num_per_class), jnp.ones(num_per_class)])\n",
    "\n",
    "    if shuffle:\n",
    "        idx = jr.permutation(key6, jnp.arange(num_per_class * 2))\n",
    "        input, output = input[idx], output[idx]\n",
    "\n",
    "    val_index, test_index = num_per_class, int(1.4 * num_per_class)\n",
    "    X_train, X_val, X_test = input[:val_index], input[val_index:test_index], input[test_index:]\n",
    "    y_train, y_val, y_test = output[:val_index], output[val_index:test_index], output[test_index:]\n",
    "\n",
    "    return X_train, X_val, X_test, y_train, y_val, y_test"
   ]
  },
  {
   "cell_type": "code",
   "execution_count": null,
   "metadata": {},
   "outputs": [],
   "source": [
    "X_train, X_val, X_test, y_train, y_val, y_test = generate_spiral_dataset()"
   ]
  },
  {
   "cell_type": "code",
   "execution_count": null,
   "metadata": {},
   "outputs": [],
   "source": [
    "plt.plot(X_train[y_train==0, 0], X_train[y_train==0, 1], 'o', label='0');\n",
    "plt.plot(X_train[y_train==1, 0], X_train[y_train==1, 1], 'o', label='1');"
   ]
  },
  {
   "cell_type": "code",
   "execution_count": null,
   "metadata": {},
   "outputs": [],
   "source": [
    "mlp_features = [10, 10]\n",
    "model_init_fn = partial(models.initialize_classification_mlp,\n",
    "                        hidden_dims=[20, 20,], input_dim=(2,),\n",
    "                        output_dim=1)\n",
    "model_params = model_init_fn(jr.PRNGKey(0))\n",
    "\n",
    "cb = partial(callbacks.cb_eval, evaluate_fn=partial(callbacks.evaluate_function,\n",
    "                                                    loss_fn=callbacks.ll_binary))"
   ]
  },
  {
   "cell_type": "markdown",
   "metadata": {},
   "source": [
    "## 2.1. Kalman Filter"
   ]
  },
  {
   "cell_type": "code",
   "execution_count": null,
   "metadata": {},
   "outputs": [],
   "source": [
    "def bbf_ekf(log_init_cov):\n",
    "    init_cov = jnp.exp(log_init_cov).item()\n",
    "    ekf = RebayesEKF(\n",
    "        dynamics_weights_or_function=1.0,\n",
    "        dynamics_covariance=0.0,\n",
    "        emission_mean_function=model_params[\"emission_mean_function\"],\n",
    "        emission_cov_function=model_params[\"emission_cov_function\"],\n",
    "        emission_dist=lambda mean, cov: tfd.Bernoulli(logits=mean),\n",
    "        method=\"fcekf\"\n",
    "    )\n",
    "    fcekf_val_cb_kwargs = {\n",
    "        \"agent\": ekf, \"X_test\": X_val, \"y_test\": y_val, \"apply_fn\": model_params[\"apply_fn\"],\n",
    "    }\n",
    "    _, metric = ekf.scan(model_params[\"flat_params\"], init_cov, X_train, y_train,\n",
    "                         callback=cb, **fcekf_val_cb_kwargs)\n",
    "    metric = jnp.array(list(metric.values())).mean()\n",
    "    if jnp.isnan(metric):\n",
    "        metric = -1e8\n",
    "    \n",
    "    return metric"
   ]
  },
  {
   "cell_type": "code",
   "execution_count": null,
   "metadata": {},
   "outputs": [],
   "source": [
    "bounds={\n",
    "    \"log_init_cov\": (-10.0, 2.0),\n",
    "}\n",
    "n_explore, n_exploit = 10, 15\n",
    "\n",
    "ekf_optimizer = BayesianOptimization(\n",
    "    f=bbf_ekf,\n",
    "    pbounds=bounds,\n",
    "    random_state=0,\n",
    "    verbose=2,\n",
    "    allow_duplicate_points=True,\n",
    ")\n",
    "\n",
    "ekf_optimizer.maximize(init_points=n_explore, n_iter=n_exploit)"
   ]
  },
  {
   "cell_type": "code",
   "execution_count": null,
   "metadata": {},
   "outputs": [],
   "source": [
    "hparams = ekf_optimizer.max[\"params\"]\n",
    "init_cov = jnp.exp(hparams[\"log_init_cov\"]).item()\n",
    "\n",
    "ekf = RebayesEKF(\n",
    "    dynamics_weights_or_function=1.0,\n",
    "    dynamics_covariance=0.,\n",
    "    emission_mean_function=model_params[\"emission_mean_function\"],\n",
    "    emission_cov_function=model_params[\"emission_cov_function\"],\n",
    "    emission_dist=lambda mean, cov: tfd.Bernoulli(logits=mean),\n",
    "    method=\"fcekf\",\n",
    ")\n",
    "fcekf_val_cb_kwargs = {\n",
    "    \"agent\": ekf, \"emission_fn\": model_params[\"emission_mean_function\"]\n",
    "}\n",
    "\n",
    "def callback(bel, pred_obs, t, x, y, bel_pred, **kwargs):\n",
    "    agent, emission_fn = kwargs[\"agent\"], kwargs[\"emission_fn\"]\n",
    "    y_mean = emission_fn(bel_pred.mean, x)\n",
    "    log_prob = tfd.Bernoulli(probs=y_mean).log_prob(y)\n",
    "    \n",
    "    return y_mean, log_prob\n",
    "\n",
    "ekf_bel, ekf_outputs = ekf.scan(\n",
    "    model_params[\"flat_params\"], init_cov, X_test, y_test, callback=callback, \n",
    "    **fcekf_val_cb_kwargs\n",
    ")"
   ]
  },
  {
   "cell_type": "code",
   "execution_count": null,
   "metadata": {},
   "outputs": [],
   "source": [
    "ekf_mean, ekf_log_prob = ekf_outputs\n",
    "ekf_mean, ekf_log_prob = ekf_mean.ravel(), ekf_log_prob.ravel()\n",
    "\n",
    "# Compute cumulative average\n",
    "ekf_log_prob = jnp.cumsum(ekf_log_prob) / jnp.arange(1, len(ekf_log_prob) + 1)"
   ]
  },
  {
   "cell_type": "code",
   "execution_count": null,
   "metadata": {},
   "outputs": [],
   "source": [
    "plt.plot(ekf_log_prob);"
   ]
  },
  {
   "cell_type": "markdown",
   "metadata": {},
   "source": [
    "## 2.2. Adaptive Kalman Filter"
   ]
  },
  {
   "cell_type": "code",
   "execution_count": null,
   "metadata": {},
   "outputs": [],
   "source": [
    "cb = partial(callbacks.cb_eval, evaluate_fn=partial(callbacks.evaluate_function,\n",
    "                                                    loss_fn=callbacks.ll_binary))\n",
    "\n",
    "def bbf_oclekf(log_init_cov, log_lr):\n",
    "    init_cov = jnp.exp(log_init_cov).item()\n",
    "    learning_rate = jnp.exp(log_lr).item()\n",
    "    ekf = RebayesOCLEKF(\n",
    "        dynamics_decay_delta=0.0,\n",
    "        dynamics_covariance=init_cov,\n",
    "        emission_mean_function=model_params[\"emission_mean_function\"],\n",
    "        emission_cov_function=model_params[\"emission_cov_function\"],\n",
    "        emission_dist=lambda mean, cov: tfd.Bernoulli(logits=mean),\n",
    "        method=\"fcekf\",\n",
    "        decay_dynamics_weight=True,\n",
    "        learning_rate=learning_rate,\n",
    "    )\n",
    "    fcekf_val_cb_kwargs = {\n",
    "        \"agent\": ekf, \"X_test\": X_val, \"y_test\": y_val, \"apply_fn\": model_params[\"apply_fn\"],\n",
    "    }\n",
    "    _, metric = ekf.scan(model_params[\"flat_params\"], init_cov, X_train, y_train,\n",
    "                         callback=cb, **fcekf_val_cb_kwargs)\n",
    "    metric = jnp.array(list(metric.values())).mean()\n",
    "    if jnp.isnan(metric):\n",
    "        metric = -1e8\n",
    "    \n",
    "    return metric"
   ]
  },
  {
   "cell_type": "code",
   "execution_count": null,
   "metadata": {},
   "outputs": [],
   "source": [
    "bounds={\n",
    "    \"log_init_cov\": (-15.0, 2.0),\n",
    "    \"log_lr\": (-0.0, 0.0),\n",
    "}\n",
    "n_explore, n_exploit = 10, 15\n",
    "\n",
    "oclekf_optimizer = BayesianOptimization(\n",
    "    f=bbf_oclekf,\n",
    "    pbounds=bounds,\n",
    "    random_state=0,\n",
    "    verbose=2,\n",
    "    allow_duplicate_points=True,\n",
    ")\n",
    "\n",
    "oclekf_optimizer.maximize(init_points=n_explore, n_iter=n_exploit)"
   ]
  },
  {
   "cell_type": "code",
   "execution_count": null,
   "metadata": {},
   "outputs": [],
   "source": [
    "hparams = oclekf_optimizer.max[\"params\"]\n",
    "init_cov = jnp.exp(hparams[\"log_init_cov\"]).item()\n",
    "learning_rate = jnp.exp(hparams[\"log_lr\"]).item()\n",
    "\n",
    "oclekf = RebayesOCLEKF(\n",
    "    dynamics_decay_delta=0.0,\n",
    "    dynamics_covariance=0.01,\n",
    "    emission_mean_function=model_params[\"emission_mean_function\"],\n",
    "    emission_cov_function=model_params[\"emission_cov_function\"],\n",
    "    emission_dist=lambda mean, cov: tfd.Bernoulli(logits=mean),\n",
    "    method=\"fcekf\",\n",
    "    decay_dynamics_weight=False,\n",
    "    learning_rate=learning_rate,\n",
    ")\n",
    "fcekf_val_cb_kwargs = {\n",
    "    \"agent\": ekf, \"emission_fn\": model_params[\"emission_mean_function\"]\n",
    "}\n",
    "\n",
    "def callback(bel, pred_obs, t, x, y, bel_pred, **kwargs):\n",
    "    emission_fn = kwargs[\"emission_fn\"]\n",
    "    y_mean = emission_fn(bel_pred.mean, x)\n",
    "    log_prob = tfd.Bernoulli(probs=y_mean).log_prob(y)\n",
    "    gamma_sq = jnp.exp(-bel.dynamics_decay_delta)\n",
    "    \n",
    "    return y_mean, gamma_sq, log_prob\n",
    "\n",
    "oclekf_bel, oclekf_outputs = oclekf.scan(\n",
    "    model_params[\"flat_params\"], init_cov, X_test, y_test, callback=callback, \n",
    "    **fcekf_val_cb_kwargs\n",
    ")"
   ]
  },
  {
   "cell_type": "code",
   "execution_count": null,
   "metadata": {},
   "outputs": [],
   "source": [
    "oclekf_mean, oclekf_gamma_sq, oclekf_log_prob = oclekf_outputs\n",
    "oclekf_mean, oclekf_gamma_sq, oclekf_log_prob = \\\n",
    "    oclekf_mean.ravel(), oclekf_gamma_sq.ravel(), oclekf_log_prob.ravel()\n",
    "\n",
    "# Compute cumulative average\n",
    "oclekf_log_prob = jnp.cumsum(oclekf_log_prob) / jnp.arange(1, len(oclekf_log_prob) + 1)"
   ]
  },
  {
   "cell_type": "code",
   "execution_count": null,
   "metadata": {},
   "outputs": [],
   "source": [
    "plt.plot(oclekf_log_prob);"
   ]
  },
  {
   "cell_type": "code",
   "execution_count": null,
   "metadata": {},
   "outputs": [],
   "source": [
    "fig, ax = plt.subplots(figsize=(12, 3))\n",
    "plt.plot(oclekf_gamma_sq, color=\"green\", linewidth=1.5);"
   ]
  },
  {
   "cell_type": "markdown",
   "metadata": {},
   "source": [
    "# 3. Classification (Non-Stationary)"
   ]
  },
  {
   "cell_type": "markdown",
   "metadata": {},
   "source": [
    "## 3.0. Dataset"
   ]
  },
  {
   "cell_type": "code",
   "execution_count": null,
   "metadata": {},
   "outputs": [],
   "source": [
    "def generate_nonstationary_spiral_dataset(\n",
    "    key=0,\n",
    "    num_per_class=200,\n",
    "    num_classes=10,\n",
    "):\n",
    "    if isinstance(key, int):\n",
    "        key = jr.PRNGKey(key)\n",
    "    key, subkey = jr.split(key)\n",
    "    X_train, X_val, X_test, y_train, y_val, y_test = [], [], [], [], [], []\n",
    "    for _ in range(num_classes):\n",
    "        key, subkey = jr.split(subkey)\n",
    "        X_train_i, X_val_i, X_test_i, y_train_i, y_val_i, y_test_i = \\\n",
    "            generate_spiral_dataset(num_per_class, key=key)\n",
    "        X_train.append(X_train_i)\n",
    "        X_val.append(X_val_i)\n",
    "        X_test.append(X_test_i)\n",
    "        y_train.append(y_train_i)\n",
    "        y_val.append(y_val_i)\n",
    "        y_test.append(y_test_i)\n",
    "    \n",
    "    X_train, X_val, X_test = jnp.concatenate(X_train), jnp.concatenate(X_val), jnp.concatenate(X_test)\n",
    "    y_train, y_val, y_test = jnp.concatenate(y_train), jnp.concatenate(y_val), jnp.concatenate(y_test)\n",
    "    \n",
    "    return X_train, X_val, X_test, y_train, y_val, y_test"
   ]
  },
  {
   "cell_type": "code",
   "execution_count": null,
   "metadata": {},
   "outputs": [],
   "source": [
    "X_train, X_val, X_test, y_train, y_val, y_test = generate_nonstationary_spiral_dataset()"
   ]
  },
  {
   "cell_type": "code",
   "execution_count": null,
   "metadata": {},
   "outputs": [],
   "source": [
    "plt.plot(X_train[y_train==0, 0], X_train[y_train==0, 1], 'o', label='0');\n",
    "plt.plot(X_train[y_train==1, 0], X_train[y_train==1, 1], 'o', label='1');"
   ]
  },
  {
   "cell_type": "markdown",
   "metadata": {},
   "source": [
    "## 3.1. Kalman Filter (Q = 0.0)"
   ]
  },
  {
   "cell_type": "code",
   "execution_count": null,
   "metadata": {},
   "outputs": [],
   "source": [
    "nonstationary_cb = partial(callbacks.cb_osa,\n",
    "                            evaluate_fn=callbacks.ll_binary,\n",
    "                            label=\"log_likelihood\")"
   ]
  },
  {
   "cell_type": "code",
   "execution_count": null,
   "metadata": {},
   "outputs": [],
   "source": [
    "def bbf_ekf(log_init_cov):\n",
    "    init_cov = jnp.exp(log_init_cov).item()\n",
    "    ekf = RebayesEKF(\n",
    "        dynamics_weights_or_function=1.0,\n",
    "        dynamics_covariance=0.0,\n",
    "        emission_mean_function=model_params[\"emission_mean_function\"],\n",
    "        emission_cov_function=model_params[\"emission_cov_function\"],\n",
    "        emission_dist=lambda mean, cov: tfd.Bernoulli(logits=mean),\n",
    "        method=\"fcekf\"\n",
    "    )\n",
    "    fcekf_val_cb_kwargs = {\n",
    "        \"agent\": ekf, \"X_test\": X_val, \"y_test\": y_val, \"apply_fn\": model_params[\"apply_fn\"],\n",
    "    }\n",
    "    _, metric = ekf.scan(model_params[\"flat_params\"], init_cov, X_train, y_train,\n",
    "                         callback=nonstationary_cb, **fcekf_val_cb_kwargs)\n",
    "    metric = jnp.array(list(metric.values())).mean()\n",
    "    if jnp.isnan(metric):\n",
    "        metric = -1e8\n",
    "    \n",
    "    return metric"
   ]
  },
  {
   "cell_type": "code",
   "execution_count": null,
   "metadata": {},
   "outputs": [],
   "source": [
    "bounds={\n",
    "    \"log_init_cov\": (-10.0, 2.0),\n",
    "}\n",
    "n_explore, n_exploit = 10, 15\n",
    "\n",
    "ekf_optimizer = BayesianOptimization(\n",
    "    f=bbf_ekf,\n",
    "    pbounds=bounds,\n",
    "    random_state=0,\n",
    "    verbose=2,\n",
    "    allow_duplicate_points=True,\n",
    ")\n",
    "\n",
    "ekf_optimizer.maximize(init_points=n_explore, n_iter=n_exploit)"
   ]
  },
  {
   "cell_type": "code",
   "execution_count": null,
   "metadata": {},
   "outputs": [],
   "source": [
    "hparams = ekf_optimizer.max[\"params\"]\n",
    "init_cov = jnp.exp(hparams[\"log_init_cov\"]).item()\n",
    "\n",
    "ekf = RebayesEKF(\n",
    "    dynamics_weights_or_function=1.0,\n",
    "    dynamics_covariance=0.,\n",
    "    emission_mean_function=model_params[\"emission_mean_function\"],\n",
    "    emission_cov_function=model_params[\"emission_cov_function\"],\n",
    "    emission_dist=lambda mean, cov: tfd.Bernoulli(logits=mean),\n",
    "    method=\"fcekf\",\n",
    ")\n",
    "fcekf_val_cb_kwargs = {\n",
    "    \"agent\": ekf, \"emission_fn\": model_params[\"emission_mean_function\"]\n",
    "}\n",
    "\n",
    "def callback(bel, pred_obs, t, x, y, bel_pred, **kwargs):\n",
    "    agent, emission_fn = kwargs[\"agent\"], kwargs[\"emission_fn\"]\n",
    "    y_mean = emission_fn(bel_pred.mean, x)\n",
    "    log_prob = tfd.Bernoulli(probs=y_mean).log_prob(y)\n",
    "    \n",
    "    return y_mean, log_prob\n",
    "\n",
    "ekf_bel, ekf_outputs = ekf.scan(\n",
    "    model_params[\"flat_params\"], init_cov, X_test, y_test, callback=callback, \n",
    "    **fcekf_val_cb_kwargs\n",
    ")"
   ]
  },
  {
   "cell_type": "code",
   "execution_count": null,
   "metadata": {},
   "outputs": [],
   "source": [
    "ekf_mean, ekf_log_prob = ekf_outputs\n",
    "ekf_mean, ekf_log_prob = ekf_mean.ravel(), ekf_log_prob.ravel()\n",
    "\n",
    "# Compute cumulative average\n",
    "ekf_log_prob = jnp.cumsum(ekf_log_prob) / jnp.arange(1, len(ekf_log_prob) + 1)"
   ]
  },
  {
   "cell_type": "code",
   "execution_count": null,
   "metadata": {},
   "outputs": [],
   "source": [
    "plt.plot(ekf_log_prob);"
   ]
  },
  {
   "cell_type": "markdown",
   "metadata": {},
   "source": [
    "## 3.2. Kalman Filter (Q = 0.01)"
   ]
  },
  {
   "cell_type": "code",
   "execution_count": null,
   "metadata": {},
   "outputs": [],
   "source": [
    "def bbf_noisy_ekf(log_init_cov, log_dynamics_cov):\n",
    "    init_cov = jnp.exp(log_init_cov).item()\n",
    "    dynamics_cov = jnp.exp(log_dynamics_cov).item()\n",
    "    ekf = RebayesEKF(\n",
    "        dynamics_weights_or_function=1.0,\n",
    "        dynamics_covariance=dynamics_cov,\n",
    "        emission_mean_function=model_params[\"emission_mean_function\"],\n",
    "        emission_cov_function=model_params[\"emission_cov_function\"],\n",
    "        emission_dist=lambda mean, cov: tfd.Bernoulli(logits=mean),\n",
    "        method=\"fcekf\"\n",
    "    )\n",
    "    fcekf_val_cb_kwargs = {\n",
    "        \"agent\": ekf, \"X_test\": X_val, \"y_test\": y_val, \"apply_fn\": model_params[\"apply_fn\"],\n",
    "    }\n",
    "    _, metric = ekf.scan(model_params[\"flat_params\"], init_cov, X_train, y_train,\n",
    "                         callback=nonstationary_cb, **fcekf_val_cb_kwargs)\n",
    "    metric = jnp.array(list(metric.values())).mean()\n",
    "    if jnp.isnan(metric):\n",
    "        metric = -1e8\n",
    "    \n",
    "    return metric"
   ]
  },
  {
   "cell_type": "code",
   "execution_count": null,
   "metadata": {},
   "outputs": [],
   "source": [
    "bounds={\n",
    "    \"log_init_cov\": (-20.0, 2.0),\n",
    "    \"log_dynamics_cov\": (-20.0, 2.0),\n",
    "}\n",
    "n_explore, n_exploit = 10, 15\n",
    "\n",
    "noisy_ekf_optimizer = BayesianOptimization(\n",
    "    f=bbf_noisy_ekf,\n",
    "    pbounds=bounds,\n",
    "    random_state=0,\n",
    "    verbose=2,\n",
    "    allow_duplicate_points=True,\n",
    ")\n",
    "\n",
    "noisy_ekf_optimizer.maximize(init_points=n_explore, n_iter=n_exploit)"
   ]
  },
  {
   "cell_type": "code",
   "execution_count": null,
   "metadata": {},
   "outputs": [],
   "source": [
    "hparams = noisy_ekf_optimizer.max[\"params\"]\n",
    "init_cov = jnp.exp(hparams[\"log_init_cov\"]).item()\n",
    "dynamic_cov = jnp.exp(hparams[\"log_dynamics_cov\"]).item()\n",
    "\n",
    "noisy_ekf = RebayesEKF(\n",
    "    dynamics_weights_or_function=1.0,\n",
    "    dynamics_covariance=dynamic_cov,\n",
    "    emission_mean_function=model_params[\"emission_mean_function\"],\n",
    "    emission_cov_function=model_params[\"emission_cov_function\"],\n",
    "    emission_dist=lambda mean, cov: tfd.Bernoulli(logits=mean),\n",
    "    method=\"fcekf\",\n",
    ")\n",
    "fcekf_val_cb_kwargs = {\n",
    "    \"agent\": noisy_ekf, \"emission_fn\": model_params[\"emission_mean_function\"]\n",
    "}\n",
    "\n",
    "def callback(bel, pred_obs, t, x, y, bel_pred, **kwargs):\n",
    "    agent, emission_fn = kwargs[\"agent\"], kwargs[\"emission_fn\"]\n",
    "    y_mean = emission_fn(bel_pred.mean, x)\n",
    "    log_prob = tfd.Bernoulli(probs=y_mean).log_prob(y)\n",
    "    \n",
    "    return y_mean, log_prob\n",
    "\n",
    "noisy_ekf_bel, noisy_ekf_outputs = noisy_ekf.scan(\n",
    "    model_params[\"flat_params\"], init_cov, X_test, y_test, callback=callback, \n",
    "    **fcekf_val_cb_kwargs\n",
    ")"
   ]
  },
  {
   "cell_type": "code",
   "execution_count": null,
   "metadata": {},
   "outputs": [],
   "source": [
    "noisy_ekf_mean, noisy_ekf_log_prob = noisy_ekf_outputs\n",
    "noisy_ekf_mean, noisy_ekf_log_prob = noisy_ekf_mean.ravel(), noisy_ekf_log_prob.ravel()\n",
    "\n",
    "# Compute cumulative average\n",
    "noisy_ekf_log_prob = jnp.cumsum(noisy_ekf_log_prob) / jnp.arange(1, len(noisy_ekf_log_prob) + 1)"
   ]
  },
  {
   "cell_type": "code",
   "execution_count": null,
   "metadata": {},
   "outputs": [],
   "source": [
    "plt.plot(noisy_ekf_log_prob);"
   ]
  },
  {
   "cell_type": "markdown",
   "metadata": {},
   "source": [
    "## 3.3 Adaptive Kalman Filter"
   ]
  },
  {
   "cell_type": "code",
   "execution_count": null,
   "metadata": {},
   "outputs": [],
   "source": [
    "def bbf_oclekf(log_init_cov, log_lr, log_dynamics_cov):\n",
    "    init_cov = jnp.exp(log_init_cov).item()\n",
    "    dynamics_cov = jnp.exp(log_dynamics_cov).item()\n",
    "    learning_rate = jnp.exp(log_lr).item()\n",
    "    ekf = RebayesOCLEKF(\n",
    "        dynamics_decay_delta=0.0,\n",
    "        dynamics_covariance=init_cov,\n",
    "        emission_mean_function=model_params[\"emission_mean_function\"],\n",
    "        emission_cov_function=model_params[\"emission_cov_function\"],\n",
    "        emission_dist=lambda mean, cov: tfd.Bernoulli(probs=mean),\n",
    "        method=\"fcekf\",\n",
    "        decay_dynamics_weight=True,\n",
    "        learning_rate=learning_rate,\n",
    "        gamma_ub=None,\n",
    "    )\n",
    "    fcekf_val_cb_kwargs = {\n",
    "        \"agent\": ekf, \"X_test\": X_val, \"y_test\": y_val, \"apply_fn\": model_params[\"apply_fn\"],\n",
    "    }\n",
    "    _, metric = ekf.scan(model_params[\"flat_params\"], init_cov, X_train, y_train,\n",
    "                         callback=nonstationary_cb, **fcekf_val_cb_kwargs)\n",
    "    metric = jnp.array(list(metric.values())).mean()\n",
    "    if jnp.isnan(metric):\n",
    "        metric = -1e8\n",
    "    \n",
    "    return metric"
   ]
  },
  {
   "cell_type": "code",
   "execution_count": null,
   "metadata": {},
   "outputs": [],
   "source": [
    "import jax\n",
    "\n",
    "bounds={\n",
    "    \"log_init_cov\": (-10.0, 2.0),\n",
    "    \"log_lr\": (0.0, 0.0),\n",
    "    \"log_dynamics_cov\": (-20.0, 2.0),\n",
    "}\n",
    "n_explore, n_exploit = 10, 15\n",
    "\n",
    "oclekf_optimizer = BayesianOptimization(\n",
    "    f=bbf_oclekf,\n",
    "    pbounds=bounds,\n",
    "    random_state=0,\n",
    "    verbose=2,\n",
    "    allow_duplicate_points=True,\n",
    ")\n",
    "\n",
    "oclekf_optimizer.maximize(init_points=n_explore, n_iter=n_exploit)"
   ]
  },
  {
   "cell_type": "code",
   "execution_count": null,
   "metadata": {},
   "outputs": [],
   "source": [
    "hparams = oclekf_optimizer.max[\"params\"]\n",
    "init_cov = jnp.exp(hparams[\"log_init_cov\"]).item()\n",
    "learning_rate = jnp.exp(hparams[\"log_lr\"]).item()\n",
    "\n",
    "oclekf = RebayesOCLEKF(\n",
    "    dynamics_decay_delta=0.0,\n",
    "    dynamics_covariance=init_cov,\n",
    "    emission_mean_function=model_params[\"emission_mean_function\"],\n",
    "    emission_cov_function=model_params[\"emission_cov_function\"],\n",
    "    emission_dist=lambda mean, cov: tfd.Bernoulli(logits=mean),\n",
    "    method=\"fcekf\",\n",
    "    decay_dynamics_weight=True,\n",
    "    learning_rate=learning_rate,\n",
    "    gamma_ub=0.90,\n",
    ")\n",
    "fcekf_val_cb_kwargs = {\n",
    "    \"agent\": oclekf, \"emission_fn\": model_params[\"emission_mean_function\"]\n",
    "}\n",
    "\n",
    "def callback(bel, pred_obs, t, x, y, bel_pred, **kwargs):\n",
    "    emission_fn = kwargs[\"emission_fn\"]\n",
    "    y_mean = emission_fn(bel_pred.mean, x)\n",
    "    log_prob = tfd.Bernoulli(probs=y_mean).log_prob(y)\n",
    "    gamma_sq = jnp.exp(-bel.dynamics_decay_delta)\n",
    "    \n",
    "    return y_mean, gamma_sq, log_prob\n",
    "\n",
    "\n",
    "# with jax.disable_jit():\n",
    "oclekf_bel, oclekf_outputs = oclekf.scan(\n",
    "    model_params[\"flat_params\"], init_cov, X_test, y_test, callback=callback, \n",
    "    **fcekf_val_cb_kwargs\n",
    ")"
   ]
  },
  {
   "cell_type": "code",
   "execution_count": null,
   "metadata": {},
   "outputs": [],
   "source": [
    "oclekf_mean, oclekf_gamma_sq, oclekf_log_prob = oclekf_outputs\n",
    "oclekf_mean, oclekf_gamma_sq, oclekf_log_prob = \\\n",
    "    oclekf_mean.ravel(), oclekf_gamma_sq.ravel(), oclekf_log_prob.ravel()\n",
    "\n",
    "# Compute cumulative average\n",
    "oclekf_log_prob = jnp.cumsum(oclekf_log_prob) / jnp.arange(1, len(oclekf_log_prob) + 1)"
   ]
  },
  {
   "cell_type": "code",
   "execution_count": null,
   "metadata": {},
   "outputs": [],
   "source": [
    "oclekf_gamma_sq.min()"
   ]
  },
  {
   "cell_type": "code",
   "execution_count": null,
   "metadata": {},
   "outputs": [],
   "source": [
    "plt.plot(oclekf_log_prob);"
   ]
  },
  {
   "cell_type": "code",
   "execution_count": null,
   "metadata": {},
   "outputs": [],
   "source": [
    "fig, ax = plt.subplots(figsize=(12, 3))\n",
    "ax.plot(oclekf_gamma_sq, color=\"green\", linewidth=1.5);\n",
    "# Plot a vertical line every 120 time steps\n",
    "for i in range(0, len(oclekf_gamma_sq), 120):\n",
    "    ax.axvline(i, color=\"black\", linewidth=0.5, linestyle=\"--\")"
   ]
  },
  {
   "cell_type": "code",
   "execution_count": null,
   "metadata": {},
   "outputs": [],
   "source": [
    "fig, ax = plt.subplots(figsize=(12, 3))\n",
    "ax.plot(oclekf_gamma_sq, color=\"green\", linewidth=1.5);\n",
    "# Plot a vertical line every 120 time steps\n",
    "for i in range(0, len(oclekf_gamma_sq), 120):\n",
    "    ax.axvline(i, color=\"black\", linewidth=0.5, linestyle=\"--\")"
   ]
  },
  {
   "cell_type": "code",
   "execution_count": null,
   "metadata": {},
   "outputs": [],
   "source": [
    "fig, ax = plt.subplots(figsize=(12, 3))\n",
    "ax.plot(oclekf_gamma_sq, color=\"green\", linewidth=1.5);\n",
    "# Plot a vertical line every 120 time steps\n",
    "for i in range(0, len(oclekf_gamma_sq), 120):\n",
    "    ax.axvline(i, color=\"black\", linewidth=0.5, linestyle=\"--\")"
   ]
  },
  {
   "cell_type": "markdown",
   "metadata": {},
   "source": [
    "## 3.4 Adaptive LOFI"
   ]
  },
  {
   "cell_type": "code",
   "execution_count": null,
   "metadata": {},
   "outputs": [],
   "source": [
    "from rebayes.low_rank_filter.lofi import RebayesOCLLoFiDiagonal"
   ]
  },
  {
   "cell_type": "code",
   "execution_count": null,
   "metadata": {},
   "outputs": [],
   "source": [
    "def bbf_ocllofi(log_init_cov, log_lr):\n",
    "    init_cov = jnp.exp(log_init_cov).item()\n",
    "    learning_rate = jnp.exp(log_lr).item()\n",
    "    lofi = RebayesOCLLoFiDiagonal(\n",
    "        dynamics_weights=1.0,\n",
    "        dynamics_covariance=init_cov,\n",
    "        emission_mean_function=model_params[\"emission_mean_function\"],\n",
    "        emission_cov_function=model_params[\"emission_cov_function\"],\n",
    "        emission_dist=lambda mean, cov: tfd.Bernoulli(probs=mean),\n",
    "        decay_dynamics_weight=True,\n",
    "        learning_rate=learning_rate,\n",
    "        gamma_ub=None,\n",
    "    )\n",
    "    fcekf_val_cb_kwargs = {\n",
    "        \"agent\": lofi, \"X_test\": X_val, \"y_test\": y_val, \"apply_fn\": model_params[\"apply_fn\"],\n",
    "    }\n",
    "    _, metric = lofi.scan(model_params[\"flat_params\"], init_cov, X_train, y_train,\n",
    "                          callback=nonstationary_cb, **fcekf_val_cb_kwargs)\n",
    "    metric = jnp.array(list(metric.values())).mean()\n",
    "    if jnp.isnan(metric):\n",
    "        metric = -1e8\n",
    "    \n",
    "    return metric"
   ]
  },
  {
   "cell_type": "code",
   "execution_count": null,
   "metadata": {},
   "outputs": [],
   "source": [
    "import jax\n",
    "\n",
    "bounds={\n",
    "    \"log_init_cov\": (-10.0, 2.0),\n",
    "    \"log_lr\": (0.0, 0.0),\n",
    "}\n",
    "n_explore, n_exploit = 10, 15\n",
    "\n",
    "ocllofi_optimizer = BayesianOptimization(\n",
    "    f=bbf_ocllofi,\n",
    "    pbounds=bounds,\n",
    "    random_state=0,\n",
    "    verbose=2,\n",
    "    allow_duplicate_points=True,\n",
    ")\n",
    "\n",
    "ocllofi_optimizer.maximize(init_points=n_explore, n_iter=n_exploit)"
   ]
  },
  {
   "cell_type": "code",
   "execution_count": null,
   "metadata": {},
   "outputs": [],
   "source": [
    "hparams = ocllofi_optimizer.max[\"params\"]\n",
    "init_cov = jnp.exp(hparams[\"log_init_cov\"]).item()\n",
    "learning_rate = jnp.exp(hparams[\"log_lr\"]).item()\n",
    "\n",
    "ocllofi = RebayesOCLLoFiDiagonal(\n",
    "    dynamics_weights=1.0,\n",
    "    dynamics_covariance=init_cov,\n",
    "    emission_mean_function=model_params[\"emission_mean_function\"],\n",
    "    emission_cov_function=model_params[\"emission_cov_function\"],\n",
    "    emission_dist=lambda mean, cov: tfd.Bernoulli(logits=mean),\n",
    "    decay_dynamics_weight=True,\n",
    "    learning_rate=learning_rate,\n",
    "    gamma_ub=None,\n",
    ")\n",
    "fcekf_val_cb_kwargs = {\n",
    "    \"agent\": ocllofi, \"emission_fn\": model_params[\"emission_mean_function\"]\n",
    "}\n",
    "\n",
    "def callback(bel, pred_obs, t, x, y, bel_pred, **kwargs):\n",
    "    emission_fn = kwargs[\"emission_fn\"]\n",
    "    y_mean = emission_fn(bel_pred.mean, x)\n",
    "    log_prob = tfd.Bernoulli(probs=y_mean).log_prob(y)\n",
    "    gamma_sq = bel.gamma**2\n",
    "    \n",
    "    return y_mean, gamma_sq, log_prob\n",
    "\n",
    "\n",
    "# with jax.disable_jit():\n",
    "ocllofi_bel, ocllofi_outputs = ocllofi.scan(\n",
    "    model_params[\"flat_params\"], init_cov, X_test, y_test, callback=callback, \n",
    "    **fcekf_val_cb_kwargs\n",
    ")"
   ]
  },
  {
   "cell_type": "code",
   "execution_count": null,
   "metadata": {},
   "outputs": [],
   "source": [
    "ocllofi_mean, ocllofi_gamma_sq, ocllofi_log_prob = ocllofi_outputs\n",
    "ocllofi_mean, ocllofi_gamma_sq, ocllofi_log_prob = \\\n",
    "    ocllofi_mean.ravel(), ocllofi_gamma_sq.ravel(), ocllofi_log_prob.ravel()\n",
    "\n",
    "# Compute cumulative average\n",
    "ocllofi_log_prob = jnp.cumsum(ocllofi_log_prob) / jnp.arange(1, len(ocllofi_log_prob) + 1)"
   ]
  },
  {
   "cell_type": "code",
   "execution_count": null,
   "metadata": {},
   "outputs": [],
   "source": [
    "plt.plot(ocllofi_log_prob);"
   ]
  },
  {
   "cell_type": "code",
   "execution_count": null,
   "metadata": {},
   "outputs": [],
   "source": [
    "fig, ax = plt.subplots(figsize=(12, 3))\n",
    "ax.plot(ocllofi_gamma_sq, color=\"green\", linewidth=1.5);\n",
    "# Plot a vertical line every 120 time steps\n",
    "for i in range(0, len(ocllofi_gamma_sq), 120):\n",
    "    ax.axvline(i, color=\"black\", linewidth=0.5, linestyle=\"--\")"
   ]
  },
  {
   "cell_type": "markdown",
   "metadata": {},
   "source": [
    "# Regression (Non-Stationary)"
   ]
  },
  {
   "cell_type": "code",
   "execution_count": null,
   "metadata": {},
   "outputs": [],
   "source": [
    "import argparse\n",
    "from functools import partial\n",
    "import json\n",
    "import os\n",
    "from typing import Callable\n",
    "from pathlib import Path\n",
    "import pickle\n",
    "\n",
    "import jax.random as jr\n",
    "from jax.tree_util import tree_map\n",
    "\n",
    "import demos.collas.datasets.dataloaders as dataloaders\n",
    "from rebayes.low_rank_filter import lofi\n",
    "import rebayes.utils.models as models\n",
    "import rebayes.utils.callbacks as callbacks\n",
    "import demos.collas.hparam_tune as hparam_tune\n",
    "import demos.collas.train_utils as train_utils\n",
    "\n",
    "import demos.collas.run_regression_experiments as reg_exp"
   ]
  },
  {
   "cell_type": "code",
   "execution_count": 115,
   "metadata": {},
   "outputs": [],
   "source": [
    "problem_str = \"permuted\"\n",
    "dataset = dataloaders.reg_datasets[problem_str]\n",
    "if problem_str == \"permuted\":\n",
    "    dataset = dataset()\n",
    "dataset_load_fn, kwargs = dataset.values()\n",
    "\n",
    "ntrain = None\n",
    "base_dataset = dataloaders.load_target_digit_dataset(\n",
    "    target_digit=2, dataset_type=\"mnist\", n=ntrain,\n",
    ")\n",
    "dataset_load_fn = partial(dataset_load_fn, dataset=base_dataset)\n",
    "\n",
    "dataset = dataset_load_fn()"
   ]
  },
  {
   "cell_type": "code",
   "execution_count": null,
   "metadata": {},
   "outputs": [],
   "source": [
    "obs_scale, nll_method, temp, aleatoric = 15.0, \"nll\", 1.0, 1.0\n",
    "\n",
    "eval_metric = reg_exp._eval_metric(obs_scale, problem_str, nll_method, temp, aleatoric)"
   ]
  },
  {
   "cell_type": "code",
   "execution_count": null,
   "metadata": {},
   "outputs": [],
   "source": [
    "model_init_fn = models.initialize_regression_mlp\n",
    "\n",
    "input_dim, output_dim = reg_exp._compute_io_dims(\"mnist\")\n",
    "\n",
    "model_init_fn = partial(model_init_fn, input_dim=input_dim, \n",
    "                            output_dim=output_dim, \n",
    "                            emission_cov=obs_scale**2)"
   ]
  },
  {
   "cell_type": "code",
   "execution_count": null,
   "metadata": {},
   "outputs": [],
   "source": [
    "def bbf_ocl_lofi(\n",
    "    log_init_cov,\n",
    "    log_learning_rate,\n",
    "    # Specify before running\n",
    "    train,\n",
    "    test,\n",
    "    callback,\n",
    "    memory_size,\n",
    "    decay_dynamics_weight,\n",
    "    callback_at_end=True,\n",
    "    n_seeds=5,\n",
    "    **kwargs,\n",
    "):\n",
    "    \"\"\"\n",
    "    Black-box function for Bayesian optimization.\n",
    "    \"\"\"\n",
    "    X_train, *_, y_train = train\n",
    "    X_test, *_, y_test = test\n",
    "\n",
    "    initial_covariance = jnp.exp(log_init_cov).item()\n",
    "    learning_rate = jnp.exp(log_learning_rate).item()\n",
    "    \n",
    "    model_dict = model_init_fn(key=0)\n",
    "    \n",
    "    emission_dist = lambda mean, cov: tfd.Normal(loc=mean, scale=jnp.sqrt(cov))\n",
    "    \n",
    "    estimator = lofi.RebayesOCLLoFiDiagonal(\n",
    "        dynamics_weights=1.0,\n",
    "        dynamics_covariance=initial_covariance,\n",
    "        emission_mean_function=model_dict[\"emission_mean_function\"],\n",
    "        emission_cov_function=model_dict[\"emission_cov_function\"],\n",
    "        emission_dist=emission_dist,\n",
    "        decay_dynamics_weight=decay_dynamics_weight,\n",
    "        memory_size=memory_size,\n",
    "        inflation=\"hybrid\",\n",
    "        learning_rate=learning_rate,\n",
    "    )\n",
    "    \n",
    "    test_cb_kwargs = {\"agent\": estimator, \"X_test\": X_test, \"y_test\": y_test,\n",
    "                      \"apply_fn\": model_dict[\"apply_fn\"], \"key\": jr.PRNGKey(0),\n",
    "                      **kwargs}\n",
    "\n",
    "    result = []\n",
    "    for i in range(n_seeds):\n",
    "        model_dict = model_init_fn(key=i)\n",
    "        flat_params = model_dict[\"flat_params\"]\n",
    "        if callback_at_end:\n",
    "            bel, _ = estimator.scan(flat_params, initial_covariance, \n",
    "                                    X_train, y_train, progress_bar=False)\n",
    "            metric = jnp.array(list(callback(bel, **test_cb_kwargs).values()))\n",
    "        else:\n",
    "            _, metric = estimator.scan(flat_params, initial_covariance, \n",
    "                                       X_train, y_train, progress_bar=False, \n",
    "                                       callback=callback, **test_cb_kwargs)\n",
    "            metric = jnp.array(list(metric.values())).mean()\n",
    "        result.append(metric)\n",
    "    result = jnp.array(result).mean()\n",
    "    \n",
    "    if jnp.isnan(result) or jnp.isinf(result):\n",
    "        result = -1e8\n",
    "        \n",
    "    return result"
   ]
  },
  {
   "cell_type": "code",
   "execution_count": 116,
   "metadata": {},
   "outputs": [],
   "source": [
    "bbf_ocl_lofi = partial(\n",
    "    bbf_ocl_lofi,\n",
    "    train=dataset[\"train\"],\n",
    "    test=dataset[\"val\"],\n",
    "    callback=eval_metric[\"val\"],\n",
    "    memory_size=10,\n",
    "    decay_dynamics_weight=False,\n",
    "    callback_at_end=False,\n",
    "    n_seeds=2,\n",
    ")"
   ]
  },
  {
   "cell_type": "code",
   "execution_count": 117,
   "metadata": {},
   "outputs": [],
   "source": [
    "pbounds = {\n",
    "    \"log_init_cov\": (-10.0, 2.0),\n",
    "    \"log_learning_rate\": (-10.0, 2.0),\n",
    "}"
   ]
  },
  {
   "cell_type": "code",
   "execution_count": 118,
   "metadata": {},
   "outputs": [
    {
     "name": "stdout",
     "output_type": "stream",
     "text": [
      "|   iter    |  target   | log_in... | log_le... |\n",
      "-------------------------------------------------\n"
     ]
    }
   ],
   "source": [
    "n_explore, n_exploit = 10, 15\n",
    "\n",
    "ocllofi_optimizer = BayesianOptimization(\n",
    "    f=bbf_ocl_lofi,\n",
    "    pbounds=pbounds,\n",
    "    random_state=0,\n",
    "    verbose=2,\n",
    "    allow_duplicate_points=True,\n",
    ")\n",
    "\n",
    "ocllofi_optimizer.maximize(init_points=n_explore, n_iter=n_exploit)"
   ]
  },
  {
   "cell_type": "code",
   "execution_count": null,
   "metadata": {},
   "outputs": [],
   "source": []
  }
 ],
 "metadata": {
  "kernelspec": {
   "display_name": ".rebayes_venv",
   "language": "python",
   "name": "python3"
  },
  "language_info": {
   "codemirror_mode": {
    "name": "ipython",
    "version": 3
   },
   "file_extension": ".py",
   "mimetype": "text/x-python",
   "name": "python",
   "nbconvert_exporter": "python",
   "pygments_lexer": "ipython3",
   "version": "3.10.6"
  },
  "orig_nbformat": 4
 },
 "nbformat": 4,
 "nbformat_minor": 2
}
