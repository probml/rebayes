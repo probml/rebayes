{
 "cells": [
  {
   "cell_type": "markdown",
   "metadata": {},
   "source": [
    "# 0. Imports"
   ]
  },
  {
   "cell_type": "code",
   "execution_count": null,
   "metadata": {},
   "outputs": [],
   "source": [
    "import argparse\n",
    "from functools import partial\n",
    "import json\n",
    "import os\n",
    "from typing import Callable\n",
    "from pathlib import Path\n",
    "import pickle\n",
    "\n",
    "import flax\n",
    "import flax.linen as nn\n",
    "from flax.training.train_state import TrainState\n",
    "from jax.flatten_util import ravel_pytree\n",
    "from jax import vmap\n",
    "import jax.numpy as jnp\n",
    "from jax.tree_util import tree_map\n",
    "import jax.random as jr\n",
    "import optax\n",
    "\n",
    "import demos.collas.datasets.dataloaders as dataloaders\n",
    "import rebayes.utils.models as models\n",
    "import rebayes.utils.callbacks as callbacks\n",
    "import rebayes.sgd_filter.sgd as sgd\n",
    "import demos.collas.hparam_tune as hparam_tune\n",
    "import demos.collas.train_utils as train_utils\n",
    "import demos.collas.run_classification_experiments as experiments"
   ]
  },
  {
   "cell_type": "code",
   "execution_count": null,
   "metadata": {},
   "outputs": [],
   "source": [
    "%load_ext autoreload\n",
    "%autoreload 2\n",
    "\n",
    "%config InlineBackend.figure_format = \"retina\""
   ]
  },
  {
   "cell_type": "markdown",
   "metadata": {},
   "source": [
    "# 1. Set Up MLP Model"
   ]
  },
  {
   "cell_type": "markdown",
   "metadata": {},
   "source": [
    "## 1.1 Fashion-MNIST"
   ]
  },
  {
   "cell_type": "code",
   "execution_count": null,
   "metadata": {},
   "outputs": [],
   "source": [
    "dataset = dataloaders.clf_datasets[\"stationary\"]\n",
    "dataset_load_fn, kwargs = dataset(ntrain=2000).values()\n",
    "dataset_load_fn = partial(dataset_load_fn, dataset_type=\"fashion_mnist\")\n",
    "eval_metric = experiments._eval_metric(\"stationary\", \"nll\", 1.0, 1.0)"
   ]
  },
  {
   "cell_type": "code",
   "execution_count": null,
   "metadata": {},
   "outputs": [],
   "source": [
    "model_init_fn = partial(models.initialize_classification_mlp,\n",
    "                        hidden_dims=[500,] * 2)\n",
    "model_init_fn_probe = partial(models.initialize_classification_mlp,\n",
    "                              hidden_dims=[500,] * 2, capture_intermediates=True)"
   ]
  },
  {
   "cell_type": "code",
   "execution_count": null,
   "metadata": {},
   "outputs": [],
   "source": [
    "input_dim, output_dim = experiments._compute_io_dims(\"stationary\", \"fashion_mnist\")\n",
    "model_init_fn = partial(model_init_fn, input_dim=input_dim,\n",
    "                        output_dim=output_dim)\n",
    "model_init_fn_probe = partial(model_init_fn_probe, input_dim=input_dim,\n",
    "                              output_dim=output_dim)"
   ]
  },
  {
   "cell_type": "code",
   "execution_count": null,
   "metadata": {},
   "outputs": [],
   "source": [
    "agents = experiments._process_agent_args([\"sgd-rb\",], \"diagonal\", False,\n",
    "                                         [10,], input_dim, output_dim, \n",
    "                                         \"stationary\", \"nll\", 2)"
   ]
  },
  {
   "cell_type": "code",
   "execution_count": null,
   "metadata": {},
   "outputs": [],
   "source": [
    "output_path = Path(\"../collas/classification\", \"outputs\", \"stationary\",\n",
    "                    \"fashion_mnist_split\", \"mlp\", \"nll\")\n",
    "Path(output_path).mkdir(parents=True, exist_ok=True)"
   ]
  },
  {
   "cell_type": "code",
   "execution_count": null,
   "metadata": {},
   "outputs": [],
   "source": [
    "config_path = Path(\"../collas/classification\", \"configs\")\n",
    "hparam_path = Path(config_path, \"stationary\", \"fashion_mnist\", \"mlp\", \"nll\")"
   ]
  },
  {
   "cell_type": "markdown",
   "metadata": {},
   "source": [
    "## 1.2 CIFAR-10"
   ]
  },
  {
   "cell_type": "code",
   "execution_count": 238,
   "metadata": {},
   "outputs": [],
   "source": [
    "dataset = dataloaders.clf_datasets[\"stationary\"]\n",
    "dataset_load_fn, kwargs = dataset(ntrain=10_000).values()\n",
    "dataset_load_fn = partial(dataset_load_fn, dataset_type=\"cifar10\")\n",
    "eval_metric = experiments._eval_metric(\"stationary\", \"nll\", 1.0, 1.0)\n",
    "\n",
    "model_init_fn = partial(models.initialize_classification_mlp,\n",
    "                        hidden_dims=[100,] * 10)\n",
    "model_init_fn_probe = partial(models.initialize_classification_mlp,\n",
    "                              hidden_dims=[100,] * 10, capture_intermediates=True)"
   ]
  },
  {
   "cell_type": "code",
   "execution_count": 239,
   "metadata": {},
   "outputs": [],
   "source": [
    "input_dim, output_dim = experiments._compute_io_dims(\"stationary\", \"cifar10\")\n",
    "model_init_fn = partial(model_init_fn, input_dim=input_dim,\n",
    "                        output_dim=output_dim)\n",
    "model_init_fn_probe = partial(model_init_fn_probe, input_dim=input_dim,\n",
    "                              output_dim=output_dim)"
   ]
  },
  {
   "cell_type": "code",
   "execution_count": 240,
   "metadata": {},
   "outputs": [],
   "source": [
    "agents = experiments._process_agent_args([\"sgd-rb\",], \"diagonal\", False,\n",
    "                                         [10,], input_dim, output_dim, \n",
    "                                         \"stationary\", \"nll\", 2)"
   ]
  },
  {
   "cell_type": "code",
   "execution_count": 242,
   "metadata": {},
   "outputs": [],
   "source": [
    "output_path = Path(\"../collas/classification\", \"outputs\", \"stationary\",\n",
    "                    \"cifar10_10k_split\", \"dnn\", \"nll\")\n",
    "Path(output_path).mkdir(parents=True, exist_ok=True)"
   ]
  },
  {
   "cell_type": "code",
   "execution_count": 243,
   "metadata": {},
   "outputs": [],
   "source": [
    "config_path = Path(\"../collas/classification\", \"configs\")\n",
    "hparam_path = Path(config_path, \"stationary\", \"cifar10_10k\", \"dnn\", \"nll\")"
   ]
  },
  {
   "cell_type": "markdown",
   "metadata": {},
   "source": [
    "## 1.3 Common"
   ]
  },
  {
   "cell_type": "code",
   "execution_count": 244,
   "metadata": {},
   "outputs": [],
   "source": [
    "agent_hparams = {}\n",
    "for agent_name in agents:\n",
    "    # Check if hyperparameters are specified in config file\n",
    "    agent_hparam_path = Path(hparam_path, agent_name+\".json\")\n",
    "    try:\n",
    "        # Load json file\n",
    "        with open(agent_hparam_path, \"r\") as f:\n",
    "            agent_hparams[agent_name] = json.load(f)\n",
    "    except FileNotFoundError:\n",
    "        raise FileNotFoundError(f\"Hyperparameter {agent_hparam_path} \"\n",
    "                                \"not found.\")\n"
   ]
  },
  {
   "cell_type": "code",
   "execution_count": 245,
   "metadata": {},
   "outputs": [
    {
     "name": "stdout",
     "output_type": "stream",
     "text": [
      "Evaluating sgd-rb-10...\n"
     ]
    }
   ],
   "source": [
    "for agent_name, hparams in agent_hparams.items():\n",
    "    print(f\"Evaluating {agent_name}...\")\n",
    "    agent_kwargs = agents[agent_name]\n",
    "    if \"pbounds\" in agent_kwargs:\n",
    "        agent_kwargs.pop(\"pbounds\")\n",
    "    optimizer_dict = hparam_tune.build_estimator(model_init_fn, hparams,\n",
    "                                                 agent_name, \n",
    "                                                 classification=True, \n",
    "                                                 **agent_kwargs)"
   ]
  },
  {
   "cell_type": "markdown",
   "metadata": {},
   "source": [
    "# 2. Stitching Helper Functions"
   ]
  },
  {
   "cell_type": "code",
   "execution_count": null,
   "metadata": {},
   "outputs": [],
   "source": [
    "def generate_sub_networks(model_init_fn, flat_params, layer_start=0, layer_end=-1):\n",
    "    params_dict = model_init_fn(0)[\"unflatten_fn\"](flat_params)\n",
    "    model = model_init_fn(0)[\"model\"]\n",
    "    features, activation = model.features, model.activation\n",
    "    if layer_end == -1 or layer_end >= len(features):\n",
    "        layer_end = len(features)\n",
    "        activation = lambda x: x\n",
    "    if layer_start > len(features):\n",
    "        raise ValueError(f\"layer_start must be less than {len(features)}\")\n",
    "    if layer_end < layer_start:\n",
    "        raise ValueError(f\"layer_end must be greater than layer_start\")\n",
    "    model.features = features[layer_start:layer_end]\n",
    "    if layer_start == 0:\n",
    "        input_dim, *_ = params_dict[\"Dense_0\"][\"kernel\"].shape\n",
    "    else:\n",
    "        input_dim = features[layer_start - 1]\n",
    "    params = {\n",
    "        f\"Dense_{i-layer_start}\": \n",
    "            params_dict[f\"Dense_{i}\"] for i in range(layer_start, layer_end)\n",
    "    }\n",
    "    params = flax.core.frozen_dict.freeze(params)\n",
    "    apply_fn = lambda x: activation(model.apply({\"params\": params}, x))\n",
    "    \n",
    "    sub_model_dict = {\n",
    "        \"model\": model,\n",
    "        \"params\": params,\n",
    "        \"apply_fn\": apply_fn,\n",
    "        \"activation\": activation,\n",
    "        \"input_dim\": input_dim,\n",
    "        \"output_dim\": features[layer_end - 1],\n",
    "    }\n",
    "    \n",
    "    return sub_model_dict"
   ]
  },
  {
   "cell_type": "code",
   "execution_count": null,
   "metadata": {},
   "outputs": [],
   "source": [
    "def get_trained_params(key):\n",
    "    if isinstance(key, int):\n",
    "        key = jr.PRNGKey(key)\n",
    "    agent, init_cov = optimizer_dict[\"agent\"], optimizer_dict[\"init_cov\"]\n",
    "    keys = jr.split(key)\n",
    "    dataset = dataset_load_fn(key=keys[0])\n",
    "    model = model_init_fn(keys[1])\n",
    "    X_train, *_, y_train = dataset[\"train\"]\n",
    "    X_test, *_, y_test = dataset[\"test\"]\n",
    "    \n",
    "    test_kwargs = {\"agent\": agent, \"X_test\": X_test, \"y_test\": y_test,\n",
    "                   \"apply_fn\": model[\"apply_fn\"], \"key\": key, **kwargs}\n",
    "    \n",
    "    bel, result = agent.scan(model[\"flat_params\"], init_cov, X_train, y_train,\n",
    "                             callback=eval_metric[\"test\"], **test_kwargs)\n",
    "    \n",
    "    return bel, result"
   ]
  },
  {
   "cell_type": "code",
   "execution_count": null,
   "metadata": {},
   "outputs": [],
   "source": [
    "def construct_linear_stitching(model1, model2, key=0):\n",
    "    if isinstance(key, int):\n",
    "        key = jr.PRNGKey(key)\n",
    "    input_dim, output_dim = model1[\"output_dim\"], model2[\"input_dim\"]\n",
    "    \n",
    "    # Construct linear stitching\n",
    "    linear_model = models.MLP(features=[output_dim,], activation=lambda x: x)\n",
    "    params = linear_model.init(key, jnp.ones(input_dim))['params']\n",
    "    apply_fn = lambda w, x: linear_model.apply({\"params\": w}, x)\n",
    "    linear_model_dict = {\n",
    "        \"model\": linear_model,\n",
    "        \"apply_fn\": apply_fn,\n",
    "        \"params\": params,\n",
    "    }\n",
    "    \n",
    "    return linear_model_dict"
   ]
  },
  {
   "cell_type": "code",
   "execution_count": null,
   "metadata": {},
   "outputs": [],
   "source": [
    "def train_linear_stitching(model1, model2, dataset_load_fn,\n",
    "                           num_epochs=10, batch_size=64,\n",
    "                           learning_rate=1e-2, key=0, eval_at_end=True,\n",
    "                           loss_fn=optax.softmax_cross_entropy):\n",
    "    if isinstance(key, int):\n",
    "        key = jr.PRNGKey(key)\n",
    "    keys = jr.split(key, 3)\n",
    "    dataset = dataset_load_fn(key=keys[0])\n",
    "    X, *_, y = dataset[\"train\"]\n",
    "    X_test, *_, y_test = dataset[\"test\"]\n",
    "    if eval_at_end:\n",
    "        X_test, y_test = None, None\n",
    "    linear_model = construct_linear_stitching(model1, model2, keys[1])\n",
    "    params = linear_model[\"params\"]\n",
    "    tx = optax.sgd(learning_rate=learning_rate)\n",
    "    opt_state = tx.init(params)\n",
    "    train_state = TrainState(\n",
    "        step=0, apply_fn=linear_model[\"apply_fn\"],\n",
    "        params=params, tx=tx, opt_state=opt_state,\n",
    "    )\n",
    "    def linear_layer_loss(params, x, y, apply_fn):\n",
    "        input = vmap(model1[\"apply_fn\"])(x)\n",
    "        linear_output = vmap(apply_fn, (None, 0))(params, input)\n",
    "        output = vmap(model2[\"apply_fn\"])(linear_output)\n",
    "        loss = jnp.mean(loss_fn(output, y))\n",
    "        \n",
    "        return loss\n",
    "    \n",
    "    state, losses = sgd.train_full(\n",
    "        key=keys[2], num_epochs=num_epochs, batch_size=batch_size,\n",
    "        state=train_state, X=X, y=y, loss=linear_layer_loss,\n",
    "        X_test=X_test, y_test=y_test,\n",
    "    )\n",
    "    num_batches = X.shape[0] // batch_size\n",
    "    losses[\"train\"] /= num_batches\n",
    "    \n",
    "    return state, losses"
   ]
  },
  {
   "cell_type": "code",
   "execution_count": 222,
   "metadata": {},
   "outputs": [],
   "source": [
    "def construct_stitched_model(model1, model2, linear_model, linear_train_state):\n",
    "    def apply_fn(input):\n",
    "        intermediate_output1 = model1[\"apply_fn\"](input)\n",
    "        intermediate_output2 = linear_model[\"apply_fn\"](\n",
    "            linear_train_state.params, intermediate_output1\n",
    "        )\n",
    "        output = model2[\"apply_fn\"](intermediate_output2)\n",
    "        \n",
    "        return output\n",
    "    \n",
    "    return {\"apply_fn\": apply_fn}"
   ]
  },
  {
   "cell_type": "markdown",
   "metadata": {},
   "source": [
    "# 3. Experiments"
   ]
  },
  {
   "cell_type": "code",
   "execution_count": 231,
   "metadata": {},
   "outputs": [],
   "source": [
    "dataset = dataset_load_fn(key=0)\n",
    "X_test, *_, y_test = dataset[\"test\"]"
   ]
  },
  {
   "cell_type": "markdown",
   "metadata": {},
   "source": [
    "## 3.1 Stitch Random Networks (Control)"
   ]
  },
  {
   "cell_type": "code",
   "execution_count": 232,
   "metadata": {},
   "outputs": [],
   "source": [
    "random_network = model_init_fn(0)\n",
    "control_model1 = generate_sub_networks(model_init_fn, random_network[\"flat_params\"], layer_end=1)\n",
    "control_model2 = generate_sub_networks(model_init_fn, random_network[\"flat_params\"], layer_start=1)"
   ]
  },
  {
   "cell_type": "code",
   "execution_count": 233,
   "metadata": {},
   "outputs": [],
   "source": [
    "control_linear_model = construct_linear_stitching(control_model1, control_model2)"
   ]
  },
  {
   "cell_type": "code",
   "execution_count": 234,
   "metadata": {},
   "outputs": [],
   "source": [
    "control_state, control_losses = train_linear_stitching(control_model1, control_model2, \n",
    "                                                       dataset_load_fn, num_epochs=1000, \n",
    "                                                       learning_rate=1e-2)"
   ]
  },
  {
   "cell_type": "code",
   "execution_count": 236,
   "metadata": {},
   "outputs": [],
   "source": [
    "control_stitched_model = construct_stitched_model(control_model1, control_model2, control_linear_model, control_state)"
   ]
  },
  {
   "cell_type": "code",
   "execution_count": 237,
   "metadata": {},
   "outputs": [
    {
     "name": "stdout",
     "output_type": "stream",
     "text": [
      "Stitched model misclassification rate: 0.192\n"
     ]
    }
   ],
   "source": [
    "control_stitched_predictions = vmap(control_stitched_model[\"apply_fn\"])(X_test)\n",
    "control_stitched_predictions = jnp.argmax(control_stitched_predictions, axis=-1)\n",
    "control_stitched_miscl = jnp.mean(control_stitched_predictions != y_test)\n",
    "print(f\"Stitched model misclassification rate: {control_stitched_miscl:.3f}\")"
   ]
  },
  {
   "cell_type": "markdown",
   "metadata": {},
   "source": [
    "## 3.2: Stitch Two Random Initializations (SGD-10)"
   ]
  },
  {
   "cell_type": "code",
   "execution_count": null,
   "metadata": {},
   "outputs": [],
   "source": [
    "bel1, result1 = get_trained_params(0)\n",
    "bel2, result2 = get_trained_params(1)"
   ]
  },
  {
   "cell_type": "code",
   "execution_count": 203,
   "metadata": {},
   "outputs": [
    {
     "name": "stdout",
     "output_type": "stream",
     "text": [
      "Baseline test misclassification: 0.206\n"
     ]
    }
   ],
   "source": [
    "# Baseline test misclassification\n",
    "baseline_model = model_init_fn(key=0)\n",
    "baseline_predictions = vmap(baseline_model[\"apply_fn\"], (None, 0))(bel1.params, X_test)\n",
    "baseline_predictions = jnp.argmax(baseline_predictions, axis=1)\n",
    "baseline_miscl = jnp.mean(baseline_predictions != y_test)\n",
    "print(f\"Baseline test misclassification: {baseline_miscl:.3f}\")"
   ]
  },
  {
   "cell_type": "code",
   "execution_count": 204,
   "metadata": {},
   "outputs": [],
   "source": [
    "model1 = generate_sub_networks(model_init_fn, bel1.params, layer_end=1)\n",
    "model2 = generate_sub_networks(model_init_fn, bel2.params, layer_start=1)"
   ]
  },
  {
   "cell_type": "code",
   "execution_count": 207,
   "metadata": {},
   "outputs": [],
   "source": [
    "linear_model = construct_linear_stitching(model1, model2)"
   ]
  },
  {
   "cell_type": "code",
   "execution_count": 215,
   "metadata": {},
   "outputs": [],
   "source": [
    "state, losses = train_linear_stitching(model1, model2, dataset_load_fn,\n",
    "                                       num_epochs=1000, learning_rate=1e-2)"
   ]
  },
  {
   "cell_type": "code",
   "execution_count": 223,
   "metadata": {},
   "outputs": [],
   "source": [
    "stitched_model = construct_stitched_model(model1, model2, linear_model, state)"
   ]
  },
  {
   "cell_type": "code",
   "execution_count": 230,
   "metadata": {},
   "outputs": [
    {
     "name": "stdout",
     "output_type": "stream",
     "text": [
      "Stitched model misclassification rate: 0.168\n"
     ]
    }
   ],
   "source": [
    "stitched_predictions = vmap(stitched_model[\"apply_fn\"])(X_test)\n",
    "stitched_predictions = jnp.argmax(stitched_predictions, axis=-1)\n",
    "stitched_miscl = jnp.mean(stitched_predictions != y_test)\n",
    "print(f\"Stitched model misclassification rate: {stitched_miscl:.3f}\")"
   ]
  },
  {
   "cell_type": "markdown",
   "metadata": {},
   "source": [
    "# 4. CIFAR"
   ]
  },
  {
   "cell_type": "code",
   "execution_count": 246,
   "metadata": {},
   "outputs": [],
   "source": [
    "dataset = dataset_load_fn(key=0)\n",
    "X_test, *_, y_test = dataset[\"test\"]"
   ]
  },
  {
   "cell_type": "markdown",
   "metadata": {},
   "source": [
    "## Control"
   ]
  },
  {
   "cell_type": "code",
   "execution_count": 247,
   "metadata": {},
   "outputs": [],
   "source": [
    "random_network = model_init_fn(0)\n",
    "control_model1 = generate_sub_networks(model_init_fn, random_network[\"flat_params\"], layer_end=1)\n",
    "control_model2 = generate_sub_networks(model_init_fn, random_network[\"flat_params\"], layer_start=1)"
   ]
  },
  {
   "cell_type": "code",
   "execution_count": 248,
   "metadata": {},
   "outputs": [],
   "source": [
    "control_linear_model = construct_linear_stitching(control_model1, control_model2)"
   ]
  },
  {
   "cell_type": "code",
   "execution_count": 257,
   "metadata": {},
   "outputs": [],
   "source": [
    "control_state, control_losses = train_linear_stitching(control_model1, control_model2, \n",
    "                                                       dataset_load_fn, num_epochs=1000,\n",
    "                                                       learning_rate=1e-2)\n",
    "control_stitched_model = construct_stitched_model(control_model1, control_model2, control_linear_model, control_state)"
   ]
  },
  {
   "cell_type": "code",
   "execution_count": 258,
   "metadata": {},
   "outputs": [
    {
     "name": "stdout",
     "output_type": "stream",
     "text": [
      "Stitched model misclassification rate: 0.840\n"
     ]
    }
   ],
   "source": [
    "control_stitched_predictions = vmap(control_stitched_model[\"apply_fn\"])(X_test)\n",
    "control_stitched_predictions = jnp.argmax(control_stitched_predictions, axis=-1)\n",
    "control_stitched_miscl = jnp.mean(control_stitched_predictions != y_test)\n",
    "print(f\"Stitched model misclassification rate: {control_stitched_miscl:.3f}\")"
   ]
  },
  {
   "cell_type": "markdown",
   "metadata": {},
   "source": [
    "## Random Initializations"
   ]
  },
  {
   "cell_type": "code",
   "execution_count": 252,
   "metadata": {},
   "outputs": [],
   "source": [
    "bel1, result1 = get_trained_params(0)\n",
    "bel2, result2 = get_trained_params(1)"
   ]
  },
  {
   "cell_type": "code",
   "execution_count": 253,
   "metadata": {},
   "outputs": [
    {
     "name": "stdout",
     "output_type": "stream",
     "text": [
      "Baseline test misclassification: 0.776\n"
     ]
    }
   ],
   "source": [
    "# Baseline test misclassification\n",
    "baseline_model = model_init_fn(key=0)\n",
    "baseline_predictions = vmap(baseline_model[\"apply_fn\"], (None, 0))(bel1.params, X_test)\n",
    "baseline_predictions = jnp.argmax(baseline_predictions, axis=1)\n",
    "baseline_miscl = jnp.mean(baseline_predictions != y_test)\n",
    "print(f\"Baseline test misclassification: {baseline_miscl:.3f}\")"
   ]
  },
  {
   "cell_type": "code",
   "execution_count": 254,
   "metadata": {},
   "outputs": [],
   "source": [
    "model1 = generate_sub_networks(model_init_fn, bel1.params, layer_end=1)\n",
    "model2 = generate_sub_networks(model_init_fn, bel2.params, layer_start=1)\n",
    "\n",
    "linear_model = construct_linear_stitching(model1, model2)\n",
    "\n",
    "state, losses = train_linear_stitching(model1, model2, dataset_load_fn,\n",
    "                                       num_epochs=1000, learning_rate=1e-2)"
   ]
  },
  {
   "cell_type": "code",
   "execution_count": 255,
   "metadata": {},
   "outputs": [],
   "source": [
    "stitched_model = construct_stitched_model(model1, model2, linear_model, state)"
   ]
  },
  {
   "cell_type": "code",
   "execution_count": 256,
   "metadata": {},
   "outputs": [
    {
     "name": "stdout",
     "output_type": "stream",
     "text": [
      "Stitched model misclassification rate: 0.672\n"
     ]
    }
   ],
   "source": [
    "stitched_predictions = vmap(stitched_model[\"apply_fn\"])(X_test)\n",
    "stitched_predictions = jnp.argmax(stitched_predictions, axis=-1)\n",
    "stitched_miscl = jnp.mean(stitched_predictions != y_test)\n",
    "print(f\"Stitched model misclassification rate: {stitched_miscl:.3f}\")"
   ]
  },
  {
   "cell_type": "markdown",
   "metadata": {},
   "source": [
    "# Bayesian Glue"
   ]
  },
  {
   "cell_type": "markdown",
   "metadata": {},
   "source": []
  },
  {
   "cell_type": "code",
   "execution_count": 10,
   "metadata": {},
   "outputs": [],
   "source": [
    "import jax.random as jr\n",
    "import matplotlib.pyplot as plt\n",
    "\n",
    "import rebayes.datasets.datasets as dataset"
   ]
  },
  {
   "cell_type": "code",
   "execution_count": 15,
   "metadata": {},
   "outputs": [],
   "source": [
    "train, test = dataset.load_1d_synthetic_dataset(trenches=True)"
   ]
  },
  {
   "cell_type": "code",
   "execution_count": 16,
   "metadata": {},
   "outputs": [
    {
     "data": {
      "image/png": "[encoded data removed]",
      "text/plain": [
       "<Figure size 640x480 with 1 Axes>"
      ]
     },
     "metadata": {},
     "output_type": "display_data"
    }
   ],
   "source": [
    "X_train, y_train = train\n",
    "\n",
    "plt.scatter(X_train, y_train, alpha=0.5);"
   ]
  },
  {
   "cell_type": "code",
   "execution_count": null,
   "metadata": {},
   "outputs": [],
   "source": []
  }
 ],
 "metadata": {
  "kernelspec": {
   "display_name": ".venv",
   "language": "python",
   "name": "python3"
  },
  "language_info": {
   "codemirror_mode": {
    "name": "ipython",
    "version": 3
   },
   "file_extension": ".py",
   "mimetype": "text/x-python",
   "name": "python",
   "nbconvert_exporter": "python",
   "pygments_lexer": "ipython3",
   "version": "3.10.0"
  },
  "orig_nbformat": 4
 },
 "nbformat": 4,
 "nbformat_minor": 2
}
